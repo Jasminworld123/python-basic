{
  "nbformat": 4,
  "nbformat_minor": 0,
  "metadata": {
    "colab": {
      "provenance": []
    },
    "kernelspec": {
      "name": "python3",
      "display_name": "Python 3"
    },
    "language_info": {
      "name": "python"
    }
  },
  "cells": [
    {
      "cell_type": "markdown",
      "source": [
        "# **Data Types and Structures Assignment Questions**\n"
      ],
      "metadata": {
        "id": "UkfdI8bNO8T8"
      }
    },
    {
      "cell_type": "markdown",
      "source": [
        "# **Data Types and Structures Questions**"
      ],
      "metadata": {
        "id": "MzVplteKPsiC"
      }
    },
    {
      "cell_type": "markdown",
      "source": [
        "**1. What are data structures, and why are they important?**"
      ],
      "metadata": {
        "id": "fU8eApIgP9cM"
      }
    },
    {
      "cell_type": "markdown",
      "source": [
        "- In Python, data structures refer to the ways in which data is organized, stored, and manipulated in a program. These structures are implemented through built-in Python collections or can be defined using custom classes. Why They Are Important?\n",
        "\n",
        "- Different data structures optimize specific operations. Python's built-in data structures are optimized for common tasks like searching, inserting, deleting, and iterating over data.\n",
        "\n",
        "- Python’s built-in data structures are optimized for memory usage, allowing for efficient storage and retrieval of data.\n",
        "\n",
        "- Data structures allow Python developers to solve real-world problems efficiently."
      ],
      "metadata": {
        "id": "X2kqHMwwQWRc"
      }
    },
    {
      "cell_type": "markdown",
      "source": [
        "**2.  Explain the difference between mutable and immutable data types with examples**"
      ],
      "metadata": {
        "id": "jIDJ5x0eRMIg"
      }
    },
    {
      "cell_type": "markdown",
      "source": [
        "1.Mutable Data Types- A mutable data type is one where the value or contents of the object can be changed after the object has been created. In other words, mutable objects can be modified in place.\n",
        "\n",
        "2.Some of the mutable data types in python are- lists,dictionaries,sets, etc."
      ],
      "metadata": {
        "id": "Rz2s0sfATT6h"
      }
    },
    {
      "cell_type": "code",
      "source": [
        "#example of mutable data types-\n",
        "# Lists (mutable)\n",
        "my_list = [1, 2, 3]\n",
        "print(my_list)\n",
        "\n",
        "# Modify list\n",
        "my_list.append(4)\n",
        "my_list[0] = 10\n",
        "print(my_list)"
      ],
      "metadata": {
        "colab": {
          "base_uri": "https://localhost:8080/"
        },
        "id": "XPhmkRmPVCnm",
        "outputId": "e962cc4a-8477-4322-f96c-d624bfccb7b2"
      },
      "execution_count": 1,
      "outputs": [
        {
          "output_type": "stream",
          "name": "stdout",
          "text": [
            "[1, 2, 3]\n",
            "[10, 2, 3, 4]\n"
          ]
        }
      ]
    },
    {
      "cell_type": "markdown",
      "source": [
        "3.Immutable Data Types- An immutable data type is one where the value or contents cannot be changed once the object is created. If you attempt to modify the value, a new object is created instead of modifying the original.\n",
        "\n",
        "4.Some of the immutable data types in python are- tuples, integer, strings, etc."
      ],
      "metadata": {
        "id": "yeD8-F4HVNsx"
      }
    },
    {
      "cell_type": "code",
      "execution_count": 2,
      "metadata": {
        "colab": {
          "base_uri": "https://localhost:8080/",
          "height": 193
        },
        "id": "X9S18hA-O4L-",
        "outputId": "79e162db-32c3-4186-cf7a-fc4bc74bde2f"
      },
      "outputs": [
        {
          "output_type": "stream",
          "name": "stdout",
          "text": [
            "(1, 2, 3)\n"
          ]
        },
        {
          "output_type": "error",
          "ename": "TypeError",
          "evalue": "'tuple' object does not support item assignment",
          "traceback": [
            "\u001b[0;31m---------------------------------------------------------------------------\u001b[0m",
            "\u001b[0;31mTypeError\u001b[0m                                 Traceback (most recent call last)",
            "\u001b[0;32m<ipython-input-2-883f8b4e88a2>\u001b[0m in \u001b[0;36m<cell line: 0>\u001b[0;34m()\u001b[0m\n\u001b[1;32m      2\u001b[0m \u001b[0mmy_tuple\u001b[0m \u001b[0;34m=\u001b[0m \u001b[0;34m(\u001b[0m\u001b[0;36m1\u001b[0m\u001b[0;34m,\u001b[0m \u001b[0;36m2\u001b[0m\u001b[0;34m,\u001b[0m \u001b[0;36m3\u001b[0m\u001b[0;34m)\u001b[0m\u001b[0;34m\u001b[0m\u001b[0;34m\u001b[0m\u001b[0m\n\u001b[1;32m      3\u001b[0m \u001b[0mprint\u001b[0m\u001b[0;34m(\u001b[0m\u001b[0mmy_tuple\u001b[0m\u001b[0;34m)\u001b[0m  \u001b[0;31m# Output: (1, 2, 3)\u001b[0m\u001b[0;34m\u001b[0m\u001b[0;34m\u001b[0m\u001b[0m\n\u001b[0;32m----> 4\u001b[0;31m \u001b[0mmy_tuple\u001b[0m\u001b[0;34m[\u001b[0m\u001b[0;36m0\u001b[0m\u001b[0;34m]\u001b[0m \u001b[0;34m=\u001b[0m \u001b[0;36m10\u001b[0m\u001b[0;34m\u001b[0m\u001b[0;34m\u001b[0m\u001b[0m\n\u001b[0m",
            "\u001b[0;31mTypeError\u001b[0m: 'tuple' object does not support item assignment"
          ]
        }
      ],
      "source": [
        "# Tuples (immutable)\n",
        "my_tuple = (1, 2, 3)\n",
        "print(my_tuple)  # Output: (1, 2, 3)\n",
        "my_tuple[0] = 10"
      ]
    },
    {
      "cell_type": "markdown",
      "source": [
        "**Q3- What are the main differences between lists and tuples in Python?**"
      ],
      "metadata": {
        "id": "DWUNp1PMVma0"
      }
    },
    {
      "cell_type": "markdown",
      "source": [
        "1.Lists are mutable and suitable for data that may change.\n",
        "\n",
        "2.Tuples are immutable and efficient for fixed collections of data.\n",
        "\n",
        "- Examples Given Below-"
      ],
      "metadata": {
        "id": "JRVojw92VpFS"
      }
    },
    {
      "cell_type": "code",
      "source": [
        "#example of mutable data types-\n",
        "# Lists (mutable)\n",
        "my_list = [1, 2, 3]\n",
        "print(my_list)\n",
        "\n",
        "# Modify list\n",
        "my_list.append(4)\n",
        "my_list[0] = 10\n",
        "print(my_list)"
      ],
      "metadata": {
        "colab": {
          "base_uri": "https://localhost:8080/"
        },
        "id": "bXPCWjtvVYEV",
        "outputId": "edabd9a1-d278-4a5a-dce2-3c570bf22c6b"
      },
      "execution_count": 3,
      "outputs": [
        {
          "output_type": "stream",
          "name": "stdout",
          "text": [
            "[1, 2, 3]\n",
            "[10, 2, 3, 4]\n"
          ]
        }
      ]
    },
    {
      "cell_type": "code",
      "source": [
        "#example of immutable data types-\n",
        "# Tuples (immutable)\n",
        "my_tuple = (1, 2, 3)\n",
        "print(my_tuple)  # Output: (1, 2, 3)\n",
        "my_tuple[0] = 10"
      ],
      "metadata": {
        "colab": {
          "base_uri": "https://localhost:8080/",
          "height": 193
        },
        "id": "zooq7lp5V5Ku",
        "outputId": "52a8ff65-9f14-431a-b3b8-3dd689384c7c"
      },
      "execution_count": 4,
      "outputs": [
        {
          "output_type": "stream",
          "name": "stdout",
          "text": [
            "(1, 2, 3)\n"
          ]
        },
        {
          "output_type": "error",
          "ename": "TypeError",
          "evalue": "'tuple' object does not support item assignment",
          "traceback": [
            "\u001b[0;31m---------------------------------------------------------------------------\u001b[0m",
            "\u001b[0;31mTypeError\u001b[0m                                 Traceback (most recent call last)",
            "\u001b[0;32m<ipython-input-4-bf0c726c50ec>\u001b[0m in \u001b[0;36m<cell line: 0>\u001b[0;34m()\u001b[0m\n\u001b[1;32m      3\u001b[0m \u001b[0mmy_tuple\u001b[0m \u001b[0;34m=\u001b[0m \u001b[0;34m(\u001b[0m\u001b[0;36m1\u001b[0m\u001b[0;34m,\u001b[0m \u001b[0;36m2\u001b[0m\u001b[0;34m,\u001b[0m \u001b[0;36m3\u001b[0m\u001b[0;34m)\u001b[0m\u001b[0;34m\u001b[0m\u001b[0;34m\u001b[0m\u001b[0m\n\u001b[1;32m      4\u001b[0m \u001b[0mprint\u001b[0m\u001b[0;34m(\u001b[0m\u001b[0mmy_tuple\u001b[0m\u001b[0;34m)\u001b[0m  \u001b[0;31m# Output: (1, 2, 3)\u001b[0m\u001b[0;34m\u001b[0m\u001b[0;34m\u001b[0m\u001b[0m\n\u001b[0;32m----> 5\u001b[0;31m \u001b[0mmy_tuple\u001b[0m\u001b[0;34m[\u001b[0m\u001b[0;36m0\u001b[0m\u001b[0;34m]\u001b[0m \u001b[0;34m=\u001b[0m \u001b[0;36m10\u001b[0m\u001b[0;34m\u001b[0m\u001b[0;34m\u001b[0m\u001b[0m\n\u001b[0m",
            "\u001b[0;31mTypeError\u001b[0m: 'tuple' object does not support item assignment"
          ]
        }
      ]
    },
    {
      "cell_type": "markdown",
      "source": [
        "**Q4- Describe how dictionaries store data.**"
      ],
      "metadata": {
        "id": "yHw5NwbfWEgN"
      }
    },
    {
      "cell_type": "markdown",
      "source": [
        "- Python dictionaries are unordered collections of key-value pairs, where each key is unique and maps to a specific value. They are implemented using a hash table internally, which allows for fast lookups, insertions, and deletions."
      ],
      "metadata": {
        "id": "eEaadrwhWRSg"
      }
    },
    {
      "cell_type": "markdown",
      "source": [
        "# **example**"
      ],
      "metadata": {
        "id": "quPoGVurWZ5C"
      }
    },
    {
      "cell_type": "markdown",
      "source": [
        "my_dict = {'name': 'Alice', 'age': 25}\n",
        "\n",
        "- Key: 'name', Value: 'Alice'\n",
        "- Key: 'age', Value: 25"
      ],
      "metadata": {
        "id": "MIyYMxUNWd6U"
      }
    },
    {
      "cell_type": "markdown",
      "source": [
        "**Q5- Why might you use a set instead of a list in Python?**"
      ],
      "metadata": {
        "id": "9H_DYmL3WzIG"
      }
    },
    {
      "cell_type": "markdown",
      "source": [
        "- Uniqueness: When you need to ensure that elements are unique.\n",
        "- Performance: When you need fast membership testing or set operations (union, intersection, etc.).\n",
        "- Set operations: When you need efficient mathematical operations like union, intersection, or difference.\n",
        "- Unordered collections: When the order of elements does not matter."
      ],
      "metadata": {
        "id": "OCbq5QnRW47x"
      }
    },
    {
      "cell_type": "markdown",
      "source": [
        "**Q6- What is a string in Python, and how is it different from a list?**"
      ],
      "metadata": {
        "id": "MYjZBBFjXEKN"
      }
    },
    {
      "cell_type": "markdown",
      "source": [
        "- In Python, a string is a sequence of characters enclosed in either single quotes (') or double quotes (\"). Strings are a built-in data type used to store text data, and they are immutable, meaning that their contents cannot be changed after they are created.\n",
        "- A list is an ordered collection of items, which can be of any data type (including numbers, strings, or other lists). Lists are mutable, meaning you can change, add, or remove elements after the list is created.\n",
        "- The key difference between them is that a string is immutable but a list is mutable."
      ],
      "metadata": {
        "id": "MjYU2_HDXJ8N"
      }
    },
    {
      "cell_type": "markdown",
      "source": [
        "**Q7- How do tuples ensure data integrity in Python?**"
      ],
      "metadata": {
        "id": "RKdlirG2X4um"
      }
    },
    {
      "cell_type": "markdown",
      "source": [
        "- Tuples ensure data integrity in Python by being immutable—once created, their contents cannot be changed. This prevents accidental modifications, guarantees consistent data, and allows tuples to be safely used as dictionary keys or set elements. Their immutability also helps maintain data integrity in multi-threaded environments, as the data can't be altered unexpectedly."
      ],
      "metadata": {
        "id": "yrGKtjiWYHGt"
      }
    },
    {
      "cell_type": "markdown",
      "source": [
        "**Q8- What is a hash table, and how does it relate to dictionaries in Python?**"
      ],
      "metadata": {
        "id": "wO79A0vHYNzI"
      }
    },
    {
      "cell_type": "markdown",
      "source": [
        "- A hash table is a data structure that stores key-value pairs, using a hash function to map keys to specific indices for fast lookups.\n",
        "Python dictionaries (dict) are implemented as hash tables, where the keys are hashed, and values are stored at the computed index, allowing efficient operations like insertion, deletion, and lookup (usually O(1) time)."
      ],
      "metadata": {
        "id": "x85QMG3mYX_A"
      }
    },
    {
      "cell_type": "markdown",
      "source": [
        "**Q9- Can lists contain different data types in Python?**"
      ],
      "metadata": {
        "id": "FUPoQsWqYak4"
      }
    },
    {
      "cell_type": "markdown",
      "source": [
        "- Yes, a Python list can contain different data types. It is heterogeneous, meaning it can store elements of various types, such as integers, strings, floats, and booleans, in the same list."
      ],
      "metadata": {
        "id": "DKFJ4GV_YnA4"
      }
    },
    {
      "cell_type": "markdown",
      "source": [
        "**Q10- Explain why strings are immutable in Python.**"
      ],
      "metadata": {
        "id": "FXfE0Y5eY3Nu"
      }
    },
    {
      "cell_type": "markdown",
      "source": [
        "- Strings in Python are immutable because their content cannot be changed after creation. This ensures better performance, memory efficiency, and data consistency. It also allows strings to be hashable, enabling their use as dictionary keys or set elements."
      ],
      "metadata": {
        "id": "nAy0gGQhY_o1"
      }
    },
    {
      "cell_type": "markdown",
      "source": [
        "**Q11- What advantages do dictionaries offer over lists for certain tasks?**"
      ],
      "metadata": {
        "id": "RDqJfH2oZI3M"
      }
    },
    {
      "cell_type": "markdown",
      "source": [
        "- Dictionaries offer advantages over lists for tasks that require fast lookups (O(1) time), key-value pairing, and ensuring unique keys. They are more efficient for tasks involving quick access by key, like storing user profiles or settings, while lists are better suited for maintaining ordered collections.\n",
        "Example Use Case:\n",
        "- Dictionaries: Store user profiles, settings, or configurations where fast access by a unique key (e.g., user ID, setting name) is needed.\n",
        "Lists: Best suited for ordered collections or tasks where you need to maintain the order of elements.\n",
        "- In summary, dictionaries are more efficient for tasks that require fast lookups, key-value associations, and uniqueness, while lists are better for maintaining ordered collections."
      ],
      "metadata": {
        "id": "2zNDfD3QZLyj"
      }
    },
    {
      "cell_type": "markdown",
      "source": [
        "**Q12- How do sets handle duplicate values in Python?**"
      ],
      "metadata": {
        "id": "Awyd8TfXZiT5"
      }
    },
    {
      "cell_type": "markdown",
      "source": [
        "- In Python, sets automatically remove duplicate values. A set is an unordered collection of unique elements, meaning that if you try to add a duplicate value, it will be ignored.\n",
        "Example:\n",
        "\n",
        "my_set = {1, 2, 3, 3, 4, 5, 5}\n",
        "\n",
        "print(my_set)\n",
        "\n",
        "Output:\n",
        "\n",
        "{1, 2, 3, 4, 5}\n",
        "\n",
        "In this example, the duplicates 3 and 5 are removed when the set is created. Sets ensure that only one instance of each value is stored."
      ],
      "metadata": {
        "id": "2mpS_ipTZrew"
      }
    },
    {
      "cell_type": "markdown",
      "source": [
        "**Q13- Describe a scenario where using a tuple would be preferable over a list.**"
      ],
      "metadata": {
        "id": "gcbYBvA8Z0P_"
      }
    },
    {
      "cell_type": "markdown",
      "source": [
        "- A tuple would be preferable over a list in scenarios where you need immutable data or when the data should remain unchanged throughout the program. Specifically:\n",
        "\n",
        "- Scenario: Storing fixed configuration values or coordinates Imagine you are working with a set of geographical coordinates (latitude, longitude, altitude) or a configuration setting that should not change once set.\n",
        "\n",
        "- In this case, a tuple is ideal because:\n",
        "\n",
        "- The coordinates represent fixed, unchanging data. The tuple’s immutability prevents accidental modification, which could lead to errors or inconsistent behavior. Why not a list?\n",
        "\n",
        "- If a list were used, the coordinates could be modified (e.g., accidentally changing the longitude), which is undesirable in this context."
      ],
      "metadata": {
        "id": "wjyison1aDNG"
      }
    },
    {
      "cell_type": "markdown",
      "source": [
        "**Q14- How does the “in” keyword work differently for lists and dictionaries?**"
      ],
      "metadata": {
        "id": "DYTs7iddaK51"
      }
    },
    {
      "cell_type": "markdown",
      "source": [
        "- The in keyword works differently for lists and dictionaries in Python:\n",
        "\n",
        "- For lists: It checks if a value exists in the list.\n",
        "\n",
        "- Example: 3 in [1, 2, 3, 4] returns True, because 3 is an element in the list.\n",
        "\n",
        "- For dictionaries: It checks if a key exists in the dictionary, not the value.\n",
        "\n",
        "- Example: 'name' in {'name': 'Alice', 'age': 30} returns True, because 'name' is a key in the dictionary."
      ],
      "metadata": {
        "id": "jrUl1Ac3aTkE"
      }
    },
    {
      "cell_type": "markdown",
      "source": [
        "**Q15- Can you modify the elements of a tuple? Explain why or why not?**"
      ],
      "metadata": {
        "id": "5p9-dcnpag2B"
      }
    },
    {
      "cell_type": "markdown",
      "source": [
        "- No, you cannot modify the elements of a tuple in Python because tuples are immutable. Once a tuple is created, its elements cannot be changed, added, or removed. Why not?\n",
        "\n",
        "- Immutability: The primary reason is that tuples are designed to be immutable to ensure data integrity. This means that once the tuple is created, its structure and contents are fixed and cannot be altered, which prevents accidental modifications."
      ],
      "metadata": {
        "id": "Zg-daAQham6v"
      }
    },
    {
      "cell_type": "markdown",
      "source": [
        "**Q16- What is a nested dictionary, and give an example of its use case.**"
      ],
      "metadata": {
        "id": "cKNIpNhdYtMs"
      }
    },
    {
      "cell_type": "markdown",
      "source": [
        "- A nested dictionary is a dictionary where the values are themselves dictionaries. This allows you to represent more complex, hierarchical data structures.\n",
        "Use Case:\n",
        "\n",
        "- A common use case for a nested dictionary is representing data that naturally fits into a hierarchical structure, such as a school database or employee records.\n",
        "Example:Accessing data from a nested dictionary:\n",
        "\n",
        "Get Bob's major print(students[\"Bob\"][\"major\"]) # Output: Math\n",
        "\n",
        "Get Alice's age print(students[\"Alice\"][\"age\"]) # Output: 22"
      ],
      "metadata": {
        "id": "DFKHLAUDYwzJ"
      }
    },
    {
      "cell_type": "markdown",
      "source": [
        "**Q17- Describe the time complexity of accessing elements in a dictionary.**"
      ],
      "metadata": {
        "id": "mNyZJgMyZCsk"
      }
    },
    {
      "cell_type": "markdown",
      "source": [
        "- The time complexity of accessing elements in a Python dictionary is O(1) on average, thanks to hashing. This means retrieving a value by its key is done in constant time. In rare cases, it can degrade to O(n) due to hash collisions."
      ],
      "metadata": {
        "id": "7NiywqJJZONr"
      }
    },
    {
      "cell_type": "markdown",
      "source": [
        "**Q18- In what situations are lists preferred over dictionaries?**"
      ],
      "metadata": {
        "id": "B6iR2tkOZaPq"
      }
    },
    {
      "cell_type": "markdown",
      "source": [
        "- Lists are preferred over dictionaries in the following situations:\n",
        "\n",
        "- Maintaining Order: When the order of elements matters, as lists are ordered collections while dictionaries (prior to Python 3.7) are unordered.\n",
        "\n",
        "- Index-Based Access: When you need to access elements by position/index rather than by key, as lists use numerical indices for access."
      ],
      "metadata": {
        "id": "5Z42U_6qZdQo"
      }
    },
    {
      "cell_type": "markdown",
      "source": [
        "**Q19- Why are dictionaries considered unordered, and how does that affect data retrieval?**"
      ],
      "metadata": {
        "id": "4_rgfZq3Z1Oy"
      }
    },
    {
      "cell_type": "markdown",
      "source": [
        "- Dictionaries in Python were unordered before version 3.7 due to their hash table implementation, meaning the order of items was not guaranteed. Starting with Python 3.7, dictionaries preserve insertion order, but data is still retrieved by key, and retrieval remains efficient (O(1)average).\n",
        "\n",
        "- Effect on Data Retrieval:\n",
        "\n",
        "Pre-3.7 (Unordered): You cannot rely on the order of elements in a dictionary when retrieving data, as the order is not guaranteed.\n",
        "\n",
        "my_dict = {\"a\": 1, \"b\": 2, \"c\": 3}"
      ],
      "metadata": {
        "id": "Ok050yFQZ8Cn"
      }
    },
    {
      "cell_type": "markdown",
      "source": [
        "# **Order of keys might not be the same as insertion**"
      ],
      "metadata": {
        "id": "A0vi5kZPaPqS"
      }
    },
    {
      "cell_type": "markdown",
      "source": [
        "Post-3.7 (Ordered): The insertion order is preserved, but this does not affect how you retrieve data. You still access data by key, and retrieval is efficient (O(1) on average), but now the order of elements is predictable.\n",
        "\n",
        "my_dict = {\"a\": 1, \"b\": 2, \"c\": 3}"
      ],
      "metadata": {
        "id": "kUiP_8k_abU7"
      }
    },
    {
      "cell_type": "markdown",
      "source": [
        "# **Insertion order is maintained:**"
      ],
      "metadata": {
        "id": "pUksWUQbagki"
      }
    },
    {
      "cell_type": "markdown",
      "source": [
        "print(my_dict) # Output: {'a': 1, 'b': 2, 'c': 3}"
      ],
      "metadata": {
        "id": "sxc-69ixal4U"
      }
    },
    {
      "cell_type": "markdown",
      "source": [
        "**Q20- Explain the difference between a list and a dictionary in terms of data retrieval.**"
      ],
      "metadata": {
        "id": "rT9okrRhauLA"
      }
    },
    {
      "cell_type": "markdown",
      "source": [
        "- The difference between a list and a dictionary in terms of data retrieval is:\n",
        "\n",
        "- List: Data is retrieved by index (position). Lists are ordered collections, and you access elements by their numeric index, starting from 0. Retrieval time is O(1) for accessing an element by index.\n",
        "\n",
        "- Dictionary: Data is retrieved by key. Dictionaries store key-value pairs, and you access values using unique keys. Retrieval time is O(1) on average for accessing values by key due to hashing."
      ],
      "metadata": {
        "id": "U6t7S2h6ayXb"
      }
    },
    {
      "cell_type": "markdown",
      "source": [
        "# **Data Types and Structures Practical Questions**"
      ],
      "metadata": {
        "id": "ndYGRTSzbBUK"
      }
    },
    {
      "cell_type": "markdown",
      "source": [
        "**1.Write a code to create a string with your name and print it.**"
      ],
      "metadata": {
        "id": "gHAasetfbHN8"
      }
    },
    {
      "cell_type": "code",
      "source": [
        "my_name = \"Jasmin\"\n",
        "print(my_name)"
      ],
      "metadata": {
        "colab": {
          "base_uri": "https://localhost:8080/"
        },
        "id": "bgP8uDXNbZd2",
        "outputId": "cf969e31-0ab2-421d-f2e0-04d1bc56b19c"
      },
      "execution_count": 2,
      "outputs": [
        {
          "output_type": "stream",
          "name": "stdout",
          "text": [
            "Jasmin\n"
          ]
        }
      ]
    },
    {
      "cell_type": "markdown",
      "source": [
        "**Q2- Write a code to find the length of the string \"Hello World\".**"
      ],
      "metadata": {
        "id": "FNa4svyNbvyj"
      }
    },
    {
      "cell_type": "code",
      "source": [
        "abc = \"Hello World\"\n",
        "len(abc)"
      ],
      "metadata": {
        "colab": {
          "base_uri": "https://localhost:8080/"
        },
        "id": "mkY5ut8VbrI7",
        "outputId": "1dfb3b4c-c747-43d2-812e-3e5a680021a8"
      },
      "execution_count": 3,
      "outputs": [
        {
          "output_type": "execute_result",
          "data": {
            "text/plain": [
              "11"
            ]
          },
          "metadata": {},
          "execution_count": 3
        }
      ]
    },
    {
      "cell_type": "markdown",
      "source": [
        "**3.Write a code to slice the first 3 characters from the string \"Python Programming\".**"
      ],
      "metadata": {
        "id": "uomlpIs6b_Jf"
      }
    },
    {
      "cell_type": "code",
      "source": [
        "text = \"python programming\"\n",
        "sliced_text = text[:3]\n",
        "print(sliced_text)"
      ],
      "metadata": {
        "colab": {
          "base_uri": "https://localhost:8080/"
        },
        "id": "kvDGBYwub3GN",
        "outputId": "ce4c3e24-8e9a-4646-c232-847d0446fba3"
      },
      "execution_count": 4,
      "outputs": [
        {
          "output_type": "stream",
          "name": "stdout",
          "text": [
            "pyt\n"
          ]
        }
      ]
    },
    {
      "cell_type": "markdown",
      "source": [
        "**4.Write a code to convert the string \"hello\" to uppercase.**"
      ],
      "metadata": {
        "id": "wvyW1AVCcY9I"
      }
    },
    {
      "cell_type": "code",
      "source": [
        "text = (\"hello world\")\n",
        "text.upper()"
      ],
      "metadata": {
        "colab": {
          "base_uri": "https://localhost:8080/",
          "height": 35
        },
        "id": "KwGOJG3rcXQC",
        "outputId": "3902cb4b-63e9-4f7a-9b64-fcb7fad9ea91"
      },
      "execution_count": 5,
      "outputs": [
        {
          "output_type": "execute_result",
          "data": {
            "text/plain": [
              "'HELLO WORLD'"
            ],
            "application/vnd.google.colaboratory.intrinsic+json": {
              "type": "string"
            }
          },
          "metadata": {},
          "execution_count": 5
        }
      ]
    },
    {
      "cell_type": "markdown",
      "source": [
        "**5.Write a code to replace the word \"apple\" with \"orange\" in the string \"I like apple\".**"
      ],
      "metadata": {
        "id": "feFxFVxJcj4V"
      }
    },
    {
      "cell_type": "code",
      "source": [
        "text = (\"i like apple\")\n",
        "text.replace(\"apple\", \"orange\")"
      ],
      "metadata": {
        "colab": {
          "base_uri": "https://localhost:8080/",
          "height": 35
        },
        "id": "z2JC2gbJciof",
        "outputId": "77dc779b-6830-42c4-b5b7-f8e577cff8c6"
      },
      "execution_count": 6,
      "outputs": [
        {
          "output_type": "execute_result",
          "data": {
            "text/plain": [
              "'i like orange'"
            ],
            "application/vnd.google.colaboratory.intrinsic+json": {
              "type": "string"
            }
          },
          "metadata": {},
          "execution_count": 6
        }
      ]
    },
    {
      "cell_type": "markdown",
      "source": [
        "**6.Write a code to create a list with numbers 1 to 5 and print it.**"
      ],
      "metadata": {
        "id": "v0mxPuH4c7rd"
      }
    },
    {
      "cell_type": "code",
      "source": [
        "list_1 = [1,2,3,4,5]\n",
        "print(list_1)"
      ],
      "metadata": {
        "colab": {
          "base_uri": "https://localhost:8080/"
        },
        "id": "4JWgfQxVcr3-",
        "outputId": "4e161725-54fe-4546-fff7-dec9f1c10a75"
      },
      "execution_count": 7,
      "outputs": [
        {
          "output_type": "stream",
          "name": "stdout",
          "text": [
            "[1, 2, 3, 4, 5]\n"
          ]
        }
      ]
    },
    {
      "cell_type": "markdown",
      "source": [
        "**7.Write a code to append the number 10 to the list [1, 2, 3, 4].**"
      ],
      "metadata": {
        "id": "h-qV1JLndH99"
      }
    },
    {
      "cell_type": "code",
      "source": [
        "list_1 = [1,2,3,4]\n",
        "list_1.append(10)\n",
        "print(list_1)"
      ],
      "metadata": {
        "colab": {
          "base_uri": "https://localhost:8080/"
        },
        "id": "x1_oAng3dGSG",
        "outputId": "1232fbed-daa2-4faf-da63-e4fad68b6d6a"
      },
      "execution_count": 8,
      "outputs": [
        {
          "output_type": "stream",
          "name": "stdout",
          "text": [
            "[1, 2, 3, 4, 10]\n"
          ]
        }
      ]
    },
    {
      "cell_type": "markdown",
      "source": [
        "**8.Write a code to remove the number 3 from the list [1, 2, 3, 4, 5].**"
      ],
      "metadata": {
        "id": "T669mGJSdbZz"
      }
    },
    {
      "cell_type": "code",
      "source": [
        "list_1 = [1,2,3,4,5]\n",
        "list_1.remove(3)\n",
        "print(list_1)"
      ],
      "metadata": {
        "colab": {
          "base_uri": "https://localhost:8080/"
        },
        "id": "yPvIdEUFdXTD",
        "outputId": "d61e2f24-26d8-440a-8e67-0b95291213a6"
      },
      "execution_count": 9,
      "outputs": [
        {
          "output_type": "stream",
          "name": "stdout",
          "text": [
            "[1, 2, 4, 5]\n"
          ]
        }
      ]
    },
    {
      "cell_type": "markdown",
      "source": [
        "**9.Write a code to access the second element in the list ['a', 'b', 'c', 'd'].**"
      ],
      "metadata": {
        "id": "DcYiPR-odney"
      }
    },
    {
      "cell_type": "code",
      "source": [
        "list_1 = ['a', 'b', 'c', 'd']\n",
        "print(list_1[1])"
      ],
      "metadata": {
        "colab": {
          "base_uri": "https://localhost:8080/"
        },
        "id": "Q0MY560Qdg_j",
        "outputId": "c0a267b1-b2a1-4524-b197-bb35cd659ecb"
      },
      "execution_count": 10,
      "outputs": [
        {
          "output_type": "stream",
          "name": "stdout",
          "text": [
            "b\n"
          ]
        }
      ]
    },
    {
      "cell_type": "markdown",
      "source": [
        "**10.Write a code to reverse the list [10, 20, 30, 40, 50].**"
      ],
      "metadata": {
        "id": "XBvv7iOgd0hp"
      }
    },
    {
      "cell_type": "code",
      "source": [
        "list_1 = [10, 20, 30, 40, 50]\n",
        "list_1.reverse()\n",
        "print(list_1)"
      ],
      "metadata": {
        "colab": {
          "base_uri": "https://localhost:8080/"
        },
        "id": "xrTAT0kpduVL",
        "outputId": "b5006be0-bf4a-4e43-83fd-6ceb7b41012b"
      },
      "execution_count": 11,
      "outputs": [
        {
          "output_type": "stream",
          "name": "stdout",
          "text": [
            "[50, 40, 30, 20, 10]\n"
          ]
        }
      ]
    },
    {
      "cell_type": "markdown",
      "source": [
        "**11.Write a code to create a tuple with the elements 10, 20, 30 and print it**"
      ],
      "metadata": {
        "id": "lRYIgCyxd-J8"
      }
    },
    {
      "cell_type": "code",
      "source": [
        "tuple_1 = (10,20,30)\n",
        "print(tuple_1)"
      ],
      "metadata": {
        "colab": {
          "base_uri": "https://localhost:8080/"
        },
        "id": "1wwfFFZEd6hJ",
        "outputId": "86223313-67e0-4c40-efce-70024fb2ac0a"
      },
      "execution_count": 12,
      "outputs": [
        {
          "output_type": "stream",
          "name": "stdout",
          "text": [
            "(10, 20, 30)\n"
          ]
        }
      ]
    },
    {
      "cell_type": "markdown",
      "source": [
        "**12.Write a code to access the first element of the tuple ('apple', 'banana', 'cherry').**"
      ],
      "metadata": {
        "id": "kY3dCS38eKp4"
      }
    },
    {
      "cell_type": "code",
      "source": [
        "tuple_1 = (\"apple\", \"banana\", \"cherry\")\n",
        "print(tuple_1[0])"
      ],
      "metadata": {
        "colab": {
          "base_uri": "https://localhost:8080/"
        },
        "id": "p0N4oeaieCwM",
        "outputId": "242e4933-8c2c-416d-ef66-7e99f548e7b5"
      },
      "execution_count": 13,
      "outputs": [
        {
          "output_type": "stream",
          "name": "stdout",
          "text": [
            "apple\n"
          ]
        }
      ]
    },
    {
      "cell_type": "markdown",
      "source": [
        "**13.Write a code to count how many times the number 2 appears in the tuple (1, 2, 3, 2, 4, 2).**"
      ],
      "metadata": {
        "id": "Z1mI1XLreTvX"
      }
    },
    {
      "cell_type": "code",
      "source": [
        "tuple_1 = (1,2,3,2,4,2)\n",
        "tuple_1.count(2)"
      ],
      "metadata": {
        "colab": {
          "base_uri": "https://localhost:8080/"
        },
        "id": "TuIG0iXRePcc",
        "outputId": "77e7bb61-6803-43fa-e704-e59d71dfbc46"
      },
      "execution_count": 14,
      "outputs": [
        {
          "output_type": "execute_result",
          "data": {
            "text/plain": [
              "3"
            ]
          },
          "metadata": {},
          "execution_count": 14
        }
      ]
    },
    {
      "cell_type": "markdown",
      "source": [
        "**14. Write a code to find the index of the element \"cat\" in the tuple ('dog', 'cat', 'rabbit').**"
      ],
      "metadata": {
        "id": "2MYO9y4nefbR"
      }
    },
    {
      "cell_type": "code",
      "source": [
        "tuple_1= ('dog', 'cat', 'rabbit')\n",
        "tuple_1.index(\"cat\")"
      ],
      "metadata": {
        "colab": {
          "base_uri": "https://localhost:8080/"
        },
        "id": "qhjmzN4Gebyv",
        "outputId": "0f058b3e-1019-4972-8b1c-21617cf11205"
      },
      "execution_count": 15,
      "outputs": [
        {
          "output_type": "execute_result",
          "data": {
            "text/plain": [
              "1"
            ]
          },
          "metadata": {},
          "execution_count": 15
        }
      ]
    },
    {
      "cell_type": "markdown",
      "source": [
        "**15.Write a code to check if the element \"banana\" is in the tuple ('apple', 'orange', 'banana').**"
      ],
      "metadata": {
        "id": "2K4ZCNHvep-h"
      }
    },
    {
      "cell_type": "code",
      "source": [
        "tuple_1= ('apple', 'orange', 'banana')\n",
        "(\"banana\") in tuple_1"
      ],
      "metadata": {
        "colab": {
          "base_uri": "https://localhost:8080/"
        },
        "id": "Ac-eboMHe10K",
        "outputId": "3dfec324-0921-462e-d065-cedd752ada84"
      },
      "execution_count": 17,
      "outputs": [
        {
          "output_type": "execute_result",
          "data": {
            "text/plain": [
              "True"
            ]
          },
          "metadata": {},
          "execution_count": 17
        }
      ]
    },
    {
      "cell_type": "markdown",
      "source": [
        "**16.Write a code to create a set with the elements 1, 2, 3, 4, 5 and print it.**"
      ],
      "metadata": {
        "id": "Qk7gxIoUfDI5"
      }
    },
    {
      "cell_type": "code",
      "source": [
        "set_1 = {1,2,3,4,5}\n",
        "print(set_1)"
      ],
      "metadata": {
        "colab": {
          "base_uri": "https://localhost:8080/"
        },
        "id": "ZrkuCYTye82n",
        "outputId": "05cf5a26-f220-4898-afba-3b8a18755021"
      },
      "execution_count": 18,
      "outputs": [
        {
          "output_type": "stream",
          "name": "stdout",
          "text": [
            "{1, 2, 3, 4, 5}\n"
          ]
        }
      ]
    },
    {
      "cell_type": "markdown",
      "source": [
        "**17.Write a code to add the element 6 to the set {1, 2, 3, 4}.**"
      ],
      "metadata": {
        "id": "1dVUkdIkwGOX"
      }
    },
    {
      "cell_type": "code",
      "source": [
        "set_1 = {1,2,3,4}\n",
        "set_1.add(6)\n",
        "print (set_1)"
      ],
      "metadata": {
        "colab": {
          "base_uri": "https://localhost:8080/"
        },
        "id": "i355rrQYfKBN",
        "outputId": "34888372-fefb-42db-ad7c-5eadabee2a9e"
      },
      "execution_count": 1,
      "outputs": [
        {
          "output_type": "stream",
          "name": "stdout",
          "text": [
            "{1, 2, 3, 4, 6}\n"
          ]
        }
      ]
    },
    {
      "cell_type": "markdown",
      "source": [
        "**18. Write a code to create a tuple with the elements 10, 20, 30 and print it.**"
      ],
      "metadata": {
        "id": "dxr5bEwEwcVJ"
      }
    },
    {
      "cell_type": "code",
      "source": [
        "tuple_1 = (10,20,30)\n",
        "print(tuple_1)"
      ],
      "metadata": {
        "colab": {
          "base_uri": "https://localhost:8080/"
        },
        "id": "utv5tKsxwOfs",
        "outputId": "d6a9ed01-114e-445a-fd27-8b404dedf9f0"
      },
      "execution_count": 2,
      "outputs": [
        {
          "output_type": "stream",
          "name": "stdout",
          "text": [
            "(10, 20, 30)\n"
          ]
        }
      ]
    },
    {
      "cell_type": "markdown",
      "source": [
        "**19. Write a code to access the first element of the tuple ('apple', 'banana', 'cherry').**"
      ],
      "metadata": {
        "id": "JtgLZzwCwnNZ"
      }
    },
    {
      "cell_type": "code",
      "source": [
        "tuple_1 = (\"apple\", \"banana\", \"cherry\")\n",
        "print(tuple_1[0])\n",
        ""
      ],
      "metadata": {
        "colab": {
          "base_uri": "https://localhost:8080/"
        },
        "id": "6loPgjL7wiet",
        "outputId": "9f372d27-dc67-45f1-86be-3b4fb38a7b85"
      },
      "execution_count": 3,
      "outputs": [
        {
          "output_type": "stream",
          "name": "stdout",
          "text": [
            "apple\n"
          ]
        }
      ]
    },
    {
      "cell_type": "markdown",
      "source": [
        "**20. Write a code to count how many times the number 2 appears in the tuple (1, 2, 3, 2, 4, 2).**"
      ],
      "metadata": {
        "id": "LdoHz41rw4Az"
      }
    },
    {
      "cell_type": "code",
      "source": [
        "tuple_1 = (1,2,3,2,4,2)\n",
        "tuple_1.count(2)"
      ],
      "metadata": {
        "colab": {
          "base_uri": "https://localhost:8080/"
        },
        "id": "lpOnuuCSwvT6",
        "outputId": "11f0cc99-7610-48d9-c82c-9d53a7a04082"
      },
      "execution_count": 4,
      "outputs": [
        {
          "output_type": "execute_result",
          "data": {
            "text/plain": [
              "3"
            ]
          },
          "metadata": {},
          "execution_count": 4
        }
      ]
    },
    {
      "cell_type": "markdown",
      "source": [
        "**21. Write a code to find the index of the element \"cat\" in the tuple ('dog', 'cat', 'rabbit').**"
      ],
      "metadata": {
        "id": "JXcYrPxlw_Vw"
      }
    },
    {
      "cell_type": "code",
      "source": [
        "tuple_1= ('dog', 'cat', 'rabbit')\n",
        "tuple_1.index(\"cat\")\n",
        ""
      ],
      "metadata": {
        "colab": {
          "base_uri": "https://localhost:8080/"
        },
        "id": "RJb8pdicw86m",
        "outputId": "0f0d49b6-a41c-4224-c8dc-fa6090a8a3fe"
      },
      "execution_count": 5,
      "outputs": [
        {
          "output_type": "execute_result",
          "data": {
            "text/plain": [
              "1"
            ]
          },
          "metadata": {},
          "execution_count": 5
        }
      ]
    },
    {
      "cell_type": "markdown",
      "source": [
        "**22.Write a code to check if the element \"banana\" is in the tuple ('apple', 'orange', 'banana').**"
      ],
      "metadata": {
        "id": "8_blIzYxxU_x"
      }
    },
    {
      "cell_type": "code",
      "source": [
        "tuple_1= ('apple', 'orange', 'banana')\n",
        "(\"banana\") in tuple_1"
      ],
      "metadata": {
        "colab": {
          "base_uri": "https://localhost:8080/"
        },
        "id": "tYHMMSnrxMcT",
        "outputId": "679c486d-43f6-4281-fc4c-e7af3439dd6a"
      },
      "execution_count": 6,
      "outputs": [
        {
          "output_type": "execute_result",
          "data": {
            "text/plain": [
              "True"
            ]
          },
          "metadata": {},
          "execution_count": 6
        }
      ]
    },
    {
      "cell_type": "markdown",
      "source": [
        "**23.Write a code to create a set with the elements 1, 2, 3, 4, 5 and print it.**"
      ],
      "metadata": {
        "id": "Vme2igM5xflx"
      }
    },
    {
      "cell_type": "code",
      "source": [
        "set_1 = {1,2,3,4,5}\n",
        "print(set_1)"
      ],
      "metadata": {
        "colab": {
          "base_uri": "https://localhost:8080/"
        },
        "id": "TGl00krMxbyD",
        "outputId": "70ac4886-8099-4d84-ea6b-d0a7408c9502"
      },
      "execution_count": 7,
      "outputs": [
        {
          "output_type": "stream",
          "name": "stdout",
          "text": [
            "{1, 2, 3, 4, 5}\n"
          ]
        }
      ]
    },
    {
      "cell_type": "markdown",
      "source": [
        "**24.Write a code to add the element 6 to the set {1, 2, 3, 4}.**"
      ],
      "metadata": {
        "id": "Yk3eq6YCxpqa"
      }
    },
    {
      "cell_type": "code",
      "source": [
        "set_1 = {1,2,3,4}\n",
        "set_1.add(6)\n",
        "print (set_1)"
      ],
      "metadata": {
        "colab": {
          "base_uri": "https://localhost:8080/"
        },
        "id": "6oVawrZfxk7q",
        "outputId": "cfef5e30-6378-488c-cca1-257721d8c60b"
      },
      "execution_count": 8,
      "outputs": [
        {
          "output_type": "stream",
          "name": "stdout",
          "text": [
            "{1, 2, 3, 4, 6}\n"
          ]
        }
      ]
    },
    {
      "cell_type": "code",
      "source": [],
      "metadata": {
        "id": "YVShS8L8xwc_"
      },
      "execution_count": null,
      "outputs": []
    }
  ]
}