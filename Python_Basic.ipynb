{
  "nbformat": 4,
  "nbformat_minor": 0,
  "metadata": {
    "colab": {
      "provenance": []
    },
    "kernelspec": {
      "name": "python3",
      "display_name": "Python 3"
    },
    "language_info": {
      "name": "python"
    }
  },
  "cells": [
    {
      "cell_type": "markdown",
      "source": [
        "# **Python Basic**"
      ],
      "metadata": {
        "id": "EtwICRAn36fm"
      }
    },
    {
      "cell_type": "markdown",
      "source": [
        "# **Python Basic - Theory Questions**"
      ],
      "metadata": {
        "id": "QPiZXgyF4Okr"
      }
    },
    {
      "cell_type": "markdown",
      "source": [
        "**Q1-What is Python, and why is it popular?**\n",
        "\n",
        "\n",
        "Python was designed by Guido van Rossum, a Dutch programmer, in the late 1980s. He released the first version in 1991.Python is a high-level, interpreted programming language known for its simplicity and readability. It supports multiple programming paradigms, including procedural, object-oriented, and functional programming.\n",
        "Its popularity stems from:\n",
        "\n",
        "Ease of use: Simple syntax, making it beginner-friendly.\n",
        "Versatility: Used in web development, data science, artificial intelligence, automation, and more.\n",
        "Large community: Extensive libraries and frameworks.\n",
        "Cross-platform compatibility: Works on multiple operating systems."
      ],
      "metadata": {
        "id": "CdVTHn6K4jKV"
      }
    },
    {
      "cell_type": "markdown",
      "source": [
        "**Q2-What is an interpreter in Python?**\n",
        "\n",
        "An interpreter in Python is a program that executes Python code directly, line by line, rather than compiling it into machine language beforehand. It reads the source code, translates it into an intermediate form, and runs it simultaneously."
      ],
      "metadata": {
        "id": "HtFKw-vxP9Ua"
      }
    },
    {
      "cell_type": "markdown",
      "source": [
        "**Q3-What are pre-defined keywords in Python?**\n",
        "\n",
        "Predefined words that holds a speacial meaning and have specific puporse. Some of the pre-defined keywords are - if, elif, import, etc."
      ],
      "metadata": {
        "id": "zcDQ-7mPQeY_"
      }
    },
    {
      "cell_type": "markdown",
      "source": [
        "**Q4-Can keywords be used as variable names?**\n",
        "\n",
        "No, keywords cannot be used as variable names in Python. Keywords are reserved words that have special meanings and purposes in the Python programming language. Using them as variable names would cause syntax errors because Python would misinterpret the intended functionality of the keyword."
      ],
      "metadata": {
        "id": "MJgPetKmQuNH"
      }
    },
    {
      "cell_type": "markdown",
      "source": [
        "**Q5-What is mutability in Python?**\n",
        "\n",
        "Objects/ Container whose state or value can be changed after they are created are called as mutable objects. Mutability means Changeability. List is a type of Mutable object."
      ],
      "metadata": {
        "id": "1GfkrTB2RJpN"
      }
    },
    {
      "cell_type": "markdown",
      "source": [
        "**Q6-Why are lists mutable, but tuples are immutable?**\n",
        "\n",
        "Lists are mutable because they are designed for dynamic operations like adding, removing, or modifying elements, making them flexible for use cases that require frequent changes.\n",
        "\n",
        "Tuples are immutable to provide a lightweight, hashable, and stable data structure, suitable for fixed collections of items and ensuring data integrity when used as keys in dictionaries or elements in sets."
      ],
      "metadata": {
        "id": "dZrR5QxARaLY"
      }
    },
    {
      "cell_type": "markdown",
      "source": [
        "**Q7-What is the difference between “==” and “is” operators in Python?**\n",
        "\n",
        "== (Equality Operator)\n",
        "\n",
        "Compares values of two objects to check if they are equal.\n",
        "\n",
        "Can return True even if the objects are stored at different memory locations.\n",
        "\n",
        "is (Identity Operator)\n",
        "\n",
        "Compares the memory addresses (identity) of two objects to check if they are the same object.\n",
        "\n",
        "Returns True only if both variables point to the exact same object in memory.\n",
        "\n",
        "Key Difference\n",
        "\n",
        "== checks value equality.\n",
        "\n",
        "is checks object identity.                  "
      ],
      "metadata": {
        "id": "xWycZlgkRokJ"
      }
    },
    {
      "cell_type": "markdown",
      "source": [
        "**Q8-What are logical operators in Python?**\n",
        "\n",
        "Logical operators in Python are used to combine or modify boolean expressions and return a boolean value (True or False). Python provides three logical operators:\n",
        "and (Logical AND) Returns True if both operands are True. Short-circuits: Stops evaluating as soon as it encounters a False. 2.or (Logical OR) Returns True if at least one operand is True. Short-circuits: Stops evaluating as soon as it encounters a True. 3.not (Logical NOT) Returns the opposite boolean value of the operand. It is a unary operator, meaning it works on a single operand."
      ],
      "metadata": {
        "id": "cjVeKAB-R9HI"
      }
    },
    {
      "cell_type": "markdown",
      "source": [
        "**Q9-What is type casting in Python?**\n",
        "\n",
        "The Process of changing the data type of a value. (Type Conversion)\n",
        "There are two varities of typecasting in python namely-\n",
        "Implicit Typecasting\n",
        "Explicit Typecasting"
      ],
      "metadata": {
        "id": "R7mORr3FXLmN"
      }
    },
    {
      "cell_type": "markdown",
      "source": [
        "**Q10-What is the difference between implicit and explicit type casting?**\n",
        "\n",
        "The difference between implicit and explicit type casting lies in who performs the conversion and how it occurs: 1.Implicit Type Casting Performed by Python automatically. Happens when Python converts one data type to another without user intervention. Ensures no loss of data or precision. Typically occurs in numeric operations (e.g., combining int and float).\n",
        "2.Explicit Type Casting Performed manually by the programmer. Achieved using Python’s built-in functions like int(), float(), str(), etc. Used when you need to forcefully convert a data type. Can lead to data loss if not used carefully."
      ],
      "metadata": {
        "id": "cciSNH1_XVFu"
      }
    },
    {
      "cell_type": "markdown",
      "source": [
        "**Q11-What is the purpose of conditional statements in Python?**\n",
        "\n",
        "The purpose of conditional statements in Python is to enable decision-making in a program. They allow the program to execute specific blocks of code based on whether a condition (or set of conditions) evaluates to True or False. This helps in controlling the program's flow dynamically.\n",
        "\n",
        "Key Uses of Conditional Statements\n",
        "\n",
        "Decision Making: Execute different code paths based on conditions.\n",
        "\n",
        "Control Flow: Change the flow of execution based on dynamic inputs or logic.\n",
        "\n",
        "Validation: Check and enforce conditions before performing actions. -Types of Conditional Statements in Python\n",
        "\n",
        "if Statement\n",
        "\n",
        "if-else\n",
        "\n",
        "if-elif-else\n",
        "\n",
        "nested if-else"
      ],
      "metadata": {
        "id": "uxQtMxCeXj2Z"
      }
    },
    {
      "cell_type": "markdown",
      "source": [
        "**Q12-How does the elif statement work?**\n",
        "\n",
        "The elif statement in Python is used for multiple conditional checks. It stands for \"else if\" and allows you to test several conditions in sequence. When the program encounters an elif, it evaluates the condition associated with it, and if the condition is True, it executes the block of code under that elif.\n",
        "\n",
        "If the condition is False, the program moves to the next elif or else statement, (if any)."
      ],
      "metadata": {
        "id": "_wpQeBi9XvRH"
      }
    },
    {
      "cell_type": "markdown",
      "source": [
        "**Q13-What is the difference between for and while loops?**\n",
        "\n",
        "The key difference between for and while loops in Python lies in their structure and use cases: 1.for Loop Purpose: The for loop is used to iterate over a sequence (like a list, tuple, string, or range) for a specific number of times.\n",
        "When to use: When you know the number of iterations in advance or you are iterating over a collection (like a list or range).\n",
        "Control: The loop automatically handles the iteration, and you don't need to manually update the loop variable. 2.while Loop Purpose: The while loop continues executing as long as the given condition is True.\n",
        "When to use: When you don't know beforehand how many iterations are needed and you want the loop to run until a condition is met.\n",
        "Control: You need to manually update the condition within the loop to prevent an infinite loop."
      ],
      "metadata": {
        "id": "zYJdTZf9X4bN"
      }
    },
    {
      "cell_type": "markdown",
      "source": [
        "**Q14-Describe a scenario where a while loop is more suitable than a for loop.**\n",
        "\n",
        "A while loop is more suitable than a for loop when the number of iterations is - not known in advance and the loop should continue as long as a certain condition is true. Imagine you're building a program that prompts the user to enter a valid password. You don't know how many attempts the user will need, so you need the loop to continue until the user enters a valid password.\n",
        "\n",
        "password = \"secret123\" user_input = \"\"\n",
        "\n",
        "while user_input != password: user_input = input(\"Enter your password: \") if user_input != password: print(\"Invalid password, try again.\") print(\"Password accepted!\")\n",
        "\n",
        "Explanation: The while loop continues to ask for the password until the user enters the correct one.\n",
        "\n",
        "The condition (user_input != password) is checked each time, and the loop keeps running until the condition becomes False (i.e., the user enters the correct password).\n",
        "\n",
        "The number of iterations is not predefined, making the while loop the ideal choice for this scenario.\n",
        "\n",
        "Why a for loop wouldn't be suitable: A for loop is typically used when you know the number of iterations in advance, such as iterating over a list or range. In this case, since we don't know how many times the user will attempt to enter the password, a for loop isn't ideal unless you explicitly set a fixed number of attempts."
      ],
      "metadata": {
        "id": "0OjLltmsZZNQ"
      }
    },
    {
      "cell_type": "markdown",
      "source": [
        "# **Python Basics - Practical Questions**"
      ],
      "metadata": {
        "id": "oVBFpBAKaZ8J"
      }
    },
    {
      "cell_type": "markdown",
      "source": [
        "\n",
        "**Q1- Write a Python program to print \"Hello, World!\"**"
      ],
      "metadata": {
        "id": "UjEk4Wewblj-"
      }
    },
    {
      "cell_type": "code",
      "source": [
        "print(\"Hello, World!\")"
      ],
      "metadata": {
        "colab": {
          "base_uri": "https://localhost:8080/"
        },
        "id": "YXFvlCaecqzE",
        "outputId": "3364f031-c197-46fe-daa5-034163532b31"
      },
      "execution_count": null,
      "outputs": [
        {
          "output_type": "stream",
          "name": "stdout",
          "text": [
            "Hello, World!\n"
          ]
        }
      ]
    },
    {
      "cell_type": "markdown",
      "source": [
        "**Q2- Write a Python program that displays your name and age.**"
      ],
      "metadata": {
        "id": "rnmqJ8AccybL"
      }
    },
    {
      "cell_type": "code",
      "source": [
        "name= 'Jasmin Sultana'\n",
        "age= 24\n",
        "print(\"My Name is\", name)\n",
        "print(\"My age is\", age)"
      ],
      "metadata": {
        "colab": {
          "base_uri": "https://localhost:8080/"
        },
        "id": "LA7xuaBfc2s9",
        "outputId": "57a6dc67-ffb5-44b8-a980-d410a173b76f"
      },
      "execution_count": null,
      "outputs": [
        {
          "output_type": "stream",
          "name": "stdout",
          "text": [
            "My Name is Jasmin Sultana\n",
            "My age is 24\n"
          ]
        }
      ]
    },
    {
      "cell_type": "markdown",
      "source": [
        "**Q3- Write code to print all the pre-defined keywords in Python using the keyword library.**"
      ],
      "metadata": {
        "id": "nTZQ4gkg5Er2"
      }
    },
    {
      "cell_type": "code",
      "source": [
        "help('keywords')"
      ],
      "metadata": {
        "colab": {
          "base_uri": "https://localhost:8080/"
        },
        "id": "SkFIWaaud4uj",
        "outputId": "32d120ee-b83c-462d-8ef4-d1507bd212e1"
      },
      "execution_count": null,
      "outputs": [
        {
          "output_type": "stream",
          "name": "stdout",
          "text": [
            "\n",
            "Here is a list of the Python keywords.  Enter any keyword to get more help.\n",
            "\n",
            "False               class               from                or\n",
            "None                continue            global              pass\n",
            "True                def                 if                  raise\n",
            "and                 del                 import              return\n",
            "as                  elif                in                  try\n",
            "assert              else                is                  while\n",
            "async               except              lambda              with\n",
            "await               finally             nonlocal            yield\n",
            "break               for                 not                 \n",
            "\n"
          ]
        }
      ]
    },
    {
      "cell_type": "markdown",
      "source": [
        "**Q4- Write a program that checks if a given word is a Python keyword.**"
      ],
      "metadata": {
        "id": "e_RXAxI2eQE3"
      }
    },
    {
      "cell_type": "code",
      "source": [
        "import  keyword\n",
        "a= keyword.kwlist\n",
        "b= (input(\" Enter a Word\"))\n",
        "if b in a:\n",
        "  print(\"The Word is a keyword\")\n",
        "else:\n",
        "  print(\"The Word is not a keyword\")"
      ],
      "metadata": {
        "colab": {
          "base_uri": "https://localhost:8080/"
        },
        "id": "IcVZVKx0eTDq",
        "outputId": "c23c23c4-6a20-4602-eb9d-a6be4a17317b"
      },
      "execution_count": null,
      "outputs": [
        {
          "output_type": "stream",
          "name": "stdout",
          "text": [
            " Enter a Wordbreak\n",
            "The Word is a keyword\n"
          ]
        }
      ]
    },
    {
      "cell_type": "markdown",
      "source": [
        "**Q5- Create a list and tuple in Python, and demonstrate how attempting to change an element works differently for each.**"
      ],
      "metadata": {
        "id": "sQHA777MggCr"
      }
    },
    {
      "cell_type": "code",
      "source": [
        "list_ = ['Apple','Mango','Banana']\n",
        "tuple_ = ('Apple','Mango','Banana')\n",
        "list_[0] = 'Grapes'\n",
        "print(list_)\n",
        "tuple_[0] = 'Grapes'\n",
        "print(tuple_)"
      ],
      "metadata": {
        "colab": {
          "base_uri": "https://localhost:8080/",
          "height": 211
        },
        "id": "7jzHuAjqjd2L",
        "outputId": "8566ba34-a3b2-44d9-8d35-79e053c401a7"
      },
      "execution_count": null,
      "outputs": [
        {
          "output_type": "stream",
          "name": "stdout",
          "text": [
            "['Grapes', 'Mango', 'Banana']\n"
          ]
        },
        {
          "output_type": "error",
          "ename": "TypeError",
          "evalue": "'tuple' object does not support item assignment",
          "traceback": [
            "\u001b[0;31m---------------------------------------------------------------------------\u001b[0m",
            "\u001b[0;31mTypeError\u001b[0m                                 Traceback (most recent call last)",
            "\u001b[0;32m<ipython-input-8-43a88276ed00>\u001b[0m in \u001b[0;36m<cell line: 5>\u001b[0;34m()\u001b[0m\n\u001b[1;32m      3\u001b[0m \u001b[0mlist_\u001b[0m\u001b[0;34m[\u001b[0m\u001b[0;36m0\u001b[0m\u001b[0;34m]\u001b[0m \u001b[0;34m=\u001b[0m \u001b[0;34m'Grapes'\u001b[0m\u001b[0;34m\u001b[0m\u001b[0;34m\u001b[0m\u001b[0m\n\u001b[1;32m      4\u001b[0m \u001b[0mprint\u001b[0m\u001b[0;34m(\u001b[0m\u001b[0mlist_\u001b[0m\u001b[0;34m)\u001b[0m\u001b[0;34m\u001b[0m\u001b[0;34m\u001b[0m\u001b[0m\n\u001b[0;32m----> 5\u001b[0;31m \u001b[0mtuple_\u001b[0m\u001b[0;34m[\u001b[0m\u001b[0;36m0\u001b[0m\u001b[0;34m]\u001b[0m \u001b[0;34m=\u001b[0m \u001b[0;34m'Grapes'\u001b[0m\u001b[0;34m\u001b[0m\u001b[0;34m\u001b[0m\u001b[0m\n\u001b[0m\u001b[1;32m      6\u001b[0m \u001b[0mprint\u001b[0m\u001b[0;34m(\u001b[0m\u001b[0mtuple_\u001b[0m\u001b[0;34m)\u001b[0m\u001b[0;34m\u001b[0m\u001b[0;34m\u001b[0m\u001b[0m\n",
            "\u001b[0;31mTypeError\u001b[0m: 'tuple' object does not support item assignment"
          ]
        }
      ]
    },
    {
      "cell_type": "markdown",
      "source": [
        "**Q6- Write a function to demonstrate the behavior of mutable and immutable arguments.**"
      ],
      "metadata": {
        "id": "Ba4Rrc-8lbG5"
      }
    },
    {
      "cell_type": "code",
      "source": [
        "def modify_immutable(num):\n",
        "    num += 1\n",
        "    print(f\"Inside function: num = {num}\")\n",
        "\n",
        "def modify_mutable(my_list):\n",
        "    my_list.append(4)\n",
        "    print(f\"Inside function: my_list = {my_list}\")\n",
        "\n",
        "original_num = 5\n",
        "print(f\"Before function call: original_num = {original_num}\")\n",
        "modify_immutable(original_num)\n",
        "print(f\"After function call: original_num = {original_num}\")\n",
        "\n",
        "my_list = [1, 2, 3]\n",
        "print(f\"Before function call: my_list = {my_list}\")\n",
        "modify_mutable(my_list)\n",
        "print(f\"After function call: my_list = {my_list}\")"
      ],
      "metadata": {
        "colab": {
          "base_uri": "https://localhost:8080/"
        },
        "id": "qJbXHiEWke-v",
        "outputId": "fe05142a-1cdf-4a90-c0bc-4fccb57bc3cc"
      },
      "execution_count": null,
      "outputs": [
        {
          "output_type": "stream",
          "name": "stdout",
          "text": [
            "Before function call: original_num = 5\n",
            "Inside function: num = 6\n",
            "After function call: original_num = 5\n",
            "Before function call: my_list = [1, 2, 3]\n",
            "Inside function: my_list = [1, 2, 3, 4]\n",
            "After function call: my_list = [1, 2, 3, 4]\n"
          ]
        }
      ]
    },
    {
      "cell_type": "markdown",
      "source": [
        "**Q7- Write a function to demonstrate the behavior of mutable and immutable arguments.**"
      ],
      "metadata": {
        "id": "zYuAVBDBlrUo"
      }
    },
    {
      "cell_type": "code",
      "source": [
        "def modify_immutable(num):\n",
        "    num += 1\n",
        "    print(f\"Inside function: num = {num}\")\n",
        "\n",
        "def modify_mutable(my_list):\n",
        "    my_list.append(4)\n",
        "    print(f\"Inside function: my_list = {my_list}\")\n",
        "\n",
        "original_num = 5\n",
        "print(f\"Before function call: original_num = {original_num}\")\n",
        "modify_immutable(original_num)\n",
        "print(f\"After function call: original_num = {original_num}\")\n",
        "\n",
        "my_list = [1, 2, 3]\n",
        "print(f\"Before function call: my_list = {my_list}\")\n",
        "modify_mutable(my_list)\n",
        "print(f\"After function call: my_list = {my_list}\")\n"
      ],
      "metadata": {
        "colab": {
          "base_uri": "https://localhost:8080/"
        },
        "id": "ETgpW_lalk7j",
        "outputId": "c4fc88b1-e533-4a89-e6f2-0f014dee1698"
      },
      "execution_count": null,
      "outputs": [
        {
          "output_type": "stream",
          "name": "stdout",
          "text": [
            "Before function call: original_num = 5\n",
            "Inside function: num = 6\n",
            "After function call: original_num = 5\n",
            "Before function call: my_list = [1, 2, 3]\n",
            "Inside function: my_list = [1, 2, 3, 4]\n",
            "After function call: my_list = [1, 2, 3, 4]\n"
          ]
        }
      ]
    },
    {
      "cell_type": "markdown",
      "source": [
        "**Q8- Write a program to demonstrate the use of logical operators.**"
      ],
      "metadata": {
        "id": "sOdNDLFpmHGS"
      }
    },
    {
      "cell_type": "code",
      "source": [
        "a = True\n",
        "b = False\n",
        "print(\"AND Operator\")\n",
        "print(f\"{a and b}\") #Output is False because one of them is False.\n",
        "print(f\"{a and a}\") #Output will be True only when both of them are True\n",
        "print(\"\")\n",
        "print(\"OR Operator\")\n",
        "print(f\"{a or b}\") #Output is True because one of them is True.\n",
        "print(f\"{b or b}\") #Output will be False only when both of them are False.\n",
        "print(\"\")\n",
        "print(\"NOT Operator\")\n",
        "print(f\"{not a}\") #Output is False because a is True.\n",
        "print(f\"{not b}\") #Output is True because b is False."
      ],
      "metadata": {
        "colab": {
          "base_uri": "https://localhost:8080/"
        },
        "id": "hTFXtPLEmFT8",
        "outputId": "29b3ca91-1553-4aa3-ea5f-3a30f125f120"
      },
      "execution_count": null,
      "outputs": [
        {
          "output_type": "stream",
          "name": "stdout",
          "text": [
            "AND Operator\n",
            "False\n",
            "True\n",
            "\n",
            "OR Operator\n",
            "True\n",
            "False\n",
            "\n",
            "NOT Operator\n",
            "False\n",
            "True\n"
          ]
        }
      ]
    },
    {
      "cell_type": "markdown",
      "source": [
        "**Q9- Write a Python program to convert user input from string to integer, float, and boolean types.**"
      ],
      "metadata": {
        "id": "5JY6O_hLmgum"
      }
    },
    {
      "cell_type": "code",
      "source": [
        "a= input(\"Enter a string to change it's type\")\n",
        "b= input(\"Select type - Integer Float Boolean\")\n",
        "if b==\"Integer\":\n",
        "  print(int(a))\n",
        "elif b==\"Float\":\n",
        "  print(float(a))\n",
        "elif b==\"Boolean\":\n",
        "  print(bool(a))\n",
        "else:\n",
        "  print(\"Invalid Input\")\n"
      ],
      "metadata": {
        "colab": {
          "base_uri": "https://localhost:8080/"
        },
        "id": "isNiCGuymXPM",
        "outputId": "365e978b-de73-43b7-e3f9-749dd88549fc"
      },
      "execution_count": null,
      "outputs": [
        {
          "output_type": "stream",
          "name": "stdout",
          "text": [
            "Enter a string to change it's type'jasmin'\n",
            "Select type - Integer Float Booleanfrom\n",
            "Invalid Input\n"
          ]
        }
      ]
    },
    {
      "cell_type": "markdown",
      "source": [
        "**Q10- Write code to demonstrate type casting with list elements.**"
      ],
      "metadata": {
        "id": "5yvEPu540cP1"
      }
    },
    {
      "cell_type": "code",
      "source": [
        "my_list = [\"10\", \"20\", \"30\", \"40\"]\n",
        "\n",
        "# Casting each element to integer\n",
        "int_list = [int(x) for x in (my_list)]\n",
        "\n",
        "print(\"Original list:\", my_list)\n",
        "print(\"List after type casting to integers:\", int_list)"
      ],
      "metadata": {
        "colab": {
          "base_uri": "https://localhost:8080/"
        },
        "id": "UI1Z-9d9mnmJ",
        "outputId": "f7cac913-c6d6-4daf-c6f5-5529f2cb3238"
      },
      "execution_count": null,
      "outputs": [
        {
          "output_type": "stream",
          "name": "stdout",
          "text": [
            "Original list: ['10', '20', '30', '40']\n",
            "List after type casting to integers: [10, 20, 30, 40]\n"
          ]
        }
      ]
    },
    {
      "cell_type": "markdown",
      "source": [
        "**Q11- Write a program that checks if a number is positive, negative, or zero.**"
      ],
      "metadata": {
        "id": "kzocMXzD0qfE"
      }
    },
    {
      "cell_type": "code",
      "source": [
        "a= int(input(\"Enter a number\"))\n",
        "if a>0:\n",
        "  print(\"The number is positive\")\n",
        "elif a<0:\n",
        "  print(\"The number is negative\")\n",
        "else:\n",
        "  print(\"The number is zero\")"
      ],
      "metadata": {
        "colab": {
          "base_uri": "https://localhost:8080/"
        },
        "id": "tOzY4APb0mTT",
        "outputId": "5239b541-5d11-4eae-b68d-839955354143"
      },
      "execution_count": null,
      "outputs": [
        {
          "output_type": "stream",
          "name": "stdout",
          "text": [
            "Enter a number1\n",
            "The number is positive\n"
          ]
        }
      ]
    },
    {
      "cell_type": "markdown",
      "source": [
        "**Q12- Write a for loop to print numbers from 1 to 10.**"
      ],
      "metadata": {
        "id": "TjK-DHVs1BrK"
      }
    },
    {
      "cell_type": "code",
      "source": [
        "for i in range(1,11):\n",
        "  print(i)\n",
        "1\n",
        "2\n",
        "3\n",
        "4\n",
        "5\n",
        "6\n",
        "7\n",
        "8\n",
        "9\n",
        "10"
      ],
      "metadata": {
        "colab": {
          "base_uri": "https://localhost:8080/"
        },
        "id": "1XAvsO9608zL",
        "outputId": "39ca4674-757c-43c0-b633-32fa6a244230"
      },
      "execution_count": null,
      "outputs": [
        {
          "output_type": "stream",
          "name": "stdout",
          "text": [
            "1\n",
            "2\n",
            "3\n",
            "4\n",
            "5\n",
            "6\n",
            "7\n",
            "8\n",
            "9\n",
            "10\n"
          ]
        },
        {
          "output_type": "execute_result",
          "data": {
            "text/plain": [
              "10"
            ]
          },
          "metadata": {},
          "execution_count": 17
        }
      ]
    },
    {
      "cell_type": "markdown",
      "source": [
        "**Q13- Write a Python program to find the sum of all even numbers between 1 and 50.**"
      ],
      "metadata": {
        "id": "GmvfY_2c13JG"
      }
    },
    {
      "cell_type": "code",
      "source": [
        "a = 0\n",
        "for i in range(0, 51):\n",
        "  if i%2==0:\n",
        "    a += i\n",
        "    print(a)\n",
        "print(\"The Sum of even numbers from 1 to 50 is\",a)"
      ],
      "metadata": {
        "colab": {
          "base_uri": "https://localhost:8080/"
        },
        "id": "QX8kgTF81auY",
        "outputId": "70da195f-095b-40cd-ac21-fafc7245e184"
      },
      "execution_count": null,
      "outputs": [
        {
          "output_type": "stream",
          "name": "stdout",
          "text": [
            "0\n",
            "2\n",
            "6\n",
            "12\n",
            "20\n",
            "30\n",
            "42\n",
            "56\n",
            "72\n",
            "90\n",
            "110\n",
            "132\n",
            "156\n",
            "182\n",
            "210\n",
            "240\n",
            "272\n",
            "306\n",
            "342\n",
            "380\n",
            "420\n",
            "462\n",
            "506\n",
            "552\n",
            "600\n",
            "650\n",
            "The Sum of even numbers from 1 to 50 is 650\n"
          ]
        }
      ]
    },
    {
      "cell_type": "markdown",
      "source": [
        "**Q14- Write a program to reverse a string using a while loop?**"
      ],
      "metadata": {
        "id": "SdfkayoD2I2j"
      }
    },
    {
      "cell_type": "code",
      "source": [
        "a =(\"Jasmin\")\n",
        "while len(a) > 0:\n",
        "  print(a[-1])\n",
        "  a = a[:-1]\n",
        "\n"
      ],
      "metadata": {
        "colab": {
          "base_uri": "https://localhost:8080/"
        },
        "id": "OJDlVxVG2A5b",
        "outputId": "f62b1059-2c63-4a49-d2f7-de2fd1079ac6"
      },
      "execution_count": null,
      "outputs": [
        {
          "output_type": "stream",
          "name": "stdout",
          "text": [
            "n\n",
            "i\n",
            "m\n",
            "s\n",
            "a\n",
            "J\n"
          ]
        }
      ]
    },
    {
      "cell_type": "markdown",
      "source": [
        "**15- Write a Python program to calculate the factorial of a number provided by the user using a while loop.**"
      ],
      "metadata": {
        "id": "TDXBRIPw2m72"
      }
    },
    {
      "cell_type": "code",
      "source": [
        "a = int(input(\"Enter a number\"))\n",
        "b = 1\n",
        "while a > 0:\n",
        "  b *= a\n",
        "  a -= 1\n",
        "print(b)"
      ],
      "metadata": {
        "colab": {
          "base_uri": "https://localhost:8080/"
        },
        "id": "dzOJ2JRe2lld",
        "outputId": "aeb97f3c-c305-40ac-91f2-0f991373937f"
      },
      "execution_count": null,
      "outputs": [
        {
          "output_type": "stream",
          "name": "stdout",
          "text": [
            "Enter a number4\n",
            "24\n"
          ]
        }
      ]
    },
    {
      "cell_type": "markdown",
      "source": [],
      "metadata": {
        "id": "QZdgyxGP237O"
      }
    },
    {
      "cell_type": "code",
      "source": [],
      "metadata": {
        "id": "w4xnVP8u2yDu"
      },
      "execution_count": null,
      "outputs": []
    }
  ]
}